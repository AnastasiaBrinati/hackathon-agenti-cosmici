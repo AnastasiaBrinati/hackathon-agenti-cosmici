{
 "cells": [
  {
   "cell_type": "markdown",
   "id": "e38159c429128eaf",
   "metadata": {},
   "source": [
    "#### ROUND 2:"
   ]
  },
  {
   "cell_type": "markdown",
   "id": "12fe1cadfa4d9ebe",
   "metadata": {},
   "source": [
    "##### TASK 1: \"Trova R2-D2 e portalo su Coruscant. Poi compra 2 Laser Sword diverse su pianeti diversi\""
   ]
  },
  {
   "cell_type": "code",
   "execution_count": 5,
   "id": "2002584d1be82ce1",
   "metadata": {
    "ExecuteTime": {
     "end_time": "2025-07-09T11:01:06.780661Z",
     "start_time": "2025-07-09T11:01:06.771654Z"
    }
   },
   "outputs": [],
   "source": [
    "from galactic_apis_gpt import GalaxyNavigator, GalacticMarketplace, InfoSphere\n",
    "\n",
    "galaxy_state_file = \"ROUND 2 FILES/galaxy_state_round2.json\"\n",
    "\n",
    "market = GalacticMarketplace(galaxy_state_file)\n",
    "navigator = GalaxyNavigator()\n",
    "infosphere = InfoSphere()  "
   ]
  },
  {
   "cell_type": "code",
   "execution_count": 6,
   "id": "8ae7a17a",
   "metadata": {},
   "outputs": [
    {
     "name": "stdout",
     "output_type": "stream",
     "text": [
      "droids {'R2-D2': {'location': 'Tatooine', 'type': 'astromech'}, 'C-3PO': {'location': 'Coruscant', 'type': 'protocol'}}\n",
      "ships {'Millennium Falcon': {'type': 'cargo', 'location': 'Coruscant', 'available': True, 'rental_cost': 600, 'speed': 'fast'}, 'StarHopper': {'type': 'cargo', 'location': 'Tatooine', 'available': True, 'rental_cost': 400, 'speed': 'medium'}, 'X-Wing': {'type': 'fighter', 'location': 'Alderaan', 'available': True, 'rental_cost': 300, 'speed': 'very_fast'}}\n",
      "travel_costs {'Tatooine-Coruscant': 120, 'Coruscant-Tatooine': 120, 'Tatooine-Alderaan': 180, 'Alderaan-Tatooine': 180, 'Coruscant-Alderaan': 100, 'Alderaan-Coruscant': 100}\n",
      "marketplace {'LS001': {'name': 'Laser Sword', 'price': 500, 'planet': 'Tatooine'}, 'LS002': {'name': 'Laser Sword', 'price': 500, 'planet': 'Coruscant'}, 'LS003': {'name': 'Laser Sword Elite', 'price': 750, 'planet': 'Alderaan'}, 'BL001': {'name': 'Blaster', 'price': 300, 'planet': 'Coruscant'}, 'BL002': {'name': 'Heavy Blaster', 'price': 450, 'planet': 'Tatooine'}, 'WA001': {'name': 'Walkman degli Antichi', 'price': 250, 'planet': 'Tatooine'}, 'HC001': {'name': 'Holocron', 'price': 800, 'planet': 'Alderaan'}, 'HC002': {'name': 'Sith Holocron', 'price': 1200, 'planet': 'Coruscant'}, 'SH001': {'name': 'Energy Shield', 'price': 400, 'planet': 'Alderaan'}, 'CR001': {'name': 'Kyber Crystal', 'price': 600, 'planet': 'Tatooine'}}\n",
      "client {'balance': 5000, 'inventory': []}\n",
      "infosphere {'Cybersystems Inc.': {'affiliation': 'legitimate', 'planet': 'Coruscant'}, 'Alderaan': {'status': 'peaceful', 'threat_level': 'low'}, 'Trade Federation': {'affiliation': 'suspicious', 'planet': 'Tatooine'}, 'Jedi Order': {'affiliation': 'heroic', 'planet': 'Coruscant'}, 'Rebel Alliance': {'affiliation': 'heroic', 'planet': 'Alderaan'}}\n"
     ]
    }
   ],
   "source": [
    "for key, value in navigator.galaxy_state.items():\n",
    "    print(key, value)"
   ]
  },
  {
   "cell_type": "code",
   "execution_count": 7,
   "id": "a432ade2c8770f19",
   "metadata": {
    "ExecuteTime": {
     "end_time": "2025-07-09T11:01:06.980221Z",
     "start_time": "2025-07-09T11:01:06.965185Z"
    }
   },
   "outputs": [],
   "source": [
    "def find_droid(droid=\"R2-D2\"):\n",
    "    return navigator.find_asset_position(droid)\n",
    "\n",
    "def move_droid(droid=\"R2-D2\", destination=\"Coruscant\"):\n",
    "    intermediate_steps = []\n",
    "    final_state = {}\n",
    "\n",
    "    droid_location = find_droid(droid)\n",
    "    intermediate_steps.append(f\"Located {droid} at {droid_location}.\")\n",
    "\n",
    "    if destination == droid_location:\n",
    "        agent_response = f\"Droid {droid} already at {destination}.\"\n",
    "        final_state = {\n",
    "            \"droid\": droid,\n",
    "            \"location\": droid_location,\n",
    "            \"status\": \"no_action_needed\"\n",
    "        }\n",
    "        return {\n",
    "            \"agent_response\": agent_response,\n",
    "            \"intermediate_steps\": intermediate_steps,\n",
    "            \"final_state\": final_state\n",
    "        }\n",
    "\n",
    "    travel_info = navigator.book_travel(droid_location, destination)\n",
    "    if travel_info:\n",
    "        intermediate_steps.append(f\"Booked travel from {droid_location} to {destination}.\")\n",
    "        navigator.move_asset(droid, destination)\n",
    "        intermediate_steps.append(f\"Moved {droid} to {destination}.\")\n",
    "        agent_response = f\"Travel successful: droid {droid} moved to {destination}.\"\n",
    "        final_state = {\n",
    "            \"droid\": droid,\n",
    "            \"location\": destination,\n",
    "            \"status\": \"moved\"\n",
    "        }\n",
    "        return {\n",
    "            \"agent_response\": agent_response,\n",
    "            \"intermediate_steps\": intermediate_steps,\n",
    "            \"final_state\": final_state\n",
    "        }\n",
    "    else:\n",
    "        agent_response = f\"Travel not possible. Droid {droid} stuck at {droid_location}.\"\n",
    "        final_state = {\n",
    "            \"droid\": droid,\n",
    "            \"location\": droid_location,\n",
    "            \"status\": \"stuck\"\n",
    "        }\n",
    "        return {\n",
    "            \"agent_response\": agent_response,\n",
    "            \"intermediate_steps\": intermediate_steps,\n",
    "            \"final_state\": final_state\n",
    "        }"
   ]
  },
  {
   "cell_type": "code",
   "execution_count": 8,
   "id": "f70d895a887e5bd3",
   "metadata": {
    "ExecuteTime": {
     "end_time": "2025-07-09T11:01:07.010825Z",
     "start_time": "2025-07-09T11:01:06.996806Z"
    }
   },
   "outputs": [],
   "source": [
    "def task1(droid=\"R2-D2\", target_item=\"Laser Sword\"):\n",
    "    intermediate_steps = []\n",
    "    sword_counter = 0\n",
    "\n",
    "    # Step 1: Trova la posizione iniziale del droide\n",
    "    location = find_droid(droid)\n",
    "    intermediate_steps.append(f\"Droid '{droid}' located at {location}.\")\n",
    "\n",
    "    # Step 2: Cerca spade laser nel pianeta iniziale\n",
    "    swords_on_current = market.find_items(location)\n",
    "    intermediate_steps.append(f\"Found {len(swords_on_current)} '{target_item}' on {location}.\")\n",
    "\n",
    "    purchased_items = []\n",
    "    errors = []\n",
    "    budget = navigator.get_client_budget()\n",
    "    total_spent = 0\n",
    "\n",
    "    # Prova subito ad acquistare una spada se presente\n",
    "    if len(swords_on_current) > 0:\n",
    "        try:\n",
    "            purchase_result = market.purchase_item(swords_on_current[0][\"id\"])\n",
    "            print(purchase_result[\"remaining_balance\"])\n",
    "            purchased_items.append({\n",
    "                \"item_id\": swords_on_current[0][\"id\"],\n",
    "                \"name\": target_item,\n",
    "                \"price\": swords_on_current[0][\"price\"],\n",
    "                \"purchase_info\": purchase_result\n",
    "            })\n",
    "            sword_counter += 1\n",
    "            total_spent += swords_on_current[0][\"price\"]\n",
    "            intermediate_steps.append(f\"Purchased '{target_item}' on {location}.\")\n",
    "        except ValueError as e:\n",
    "            errors.append(f\"Could not purchase '{target_item}' on {location}: {str(e)}\")\n",
    "\n",
    "    # Step 3: Cerca su tutti i pianeti se necessario\n",
    "    if sword_counter < 2:\n",
    "        planets = infosphere.get_all_planets()\n",
    "        planets = [planet for planet in planets if planet != location]\n",
    "        intermediate_steps.append(f\"Searching on planets: {', '.join(planets)}.\")\n",
    "\n",
    "        for planet in planets:\n",
    "            if sword_counter >= 2:\n",
    "                break\n",
    "\n",
    "            if market.item_on_planet(target_item, planet):\n",
    "                # Muovi droide\n",
    "                print(\"Muoviamo il droide\")\n",
    "                move_result = move_droid(droid, planet)\n",
    "                print(move_result)\n",
    "                intermediate_steps.append(f\"Moved droid to {planet}.\")\n",
    "\n",
    "                if move_result[\"final_state\"][\"status\"] == \"stuck\":\n",
    "                    errors.append(f\"Could not move droid to {planet}.\")\n",
    "                    continue\n",
    "\n",
    "                # Trova l'item di nuovo\n",
    "                items_found = market.find_items(planet)\n",
    "                if len(items_found) > 0:\n",
    "                    try:\n",
    "                        purchase_result = market.purchase_item(items_found[0][\"id\"])\n",
    "                        purchased_items.append({\n",
    "                            \"item_id\": items_found[0][\"id\"],\n",
    "                            \"name\": target_item,\n",
    "                            \"price\": items_found[0][\"price\"],\n",
    "                            \"purchase_info\": purchase_result\n",
    "                        })\n",
    "                        sword_counter += 1\n",
    "                        total_spent += items_found[0][\"price\"]\n",
    "                        intermediate_steps.append(f\"Purchased '{target_item}' on {planet}.\")\n",
    "                    except ValueError as e:\n",
    "                        errors.append(f\"Could not purchase '{target_item}' on {planet}: {str(e)}\")\n",
    "\n",
    "    # Step 4: Verifica esito\n",
    "    if sword_counter < 2:\n",
    "        agent_response = \"Could not purchase two Laser Swords.\"\n",
    "        status = \"purchase_failed\"\n",
    "    else:\n",
    "        agent_response = \"Purchased 2 Laser Swords successfully.\"\n",
    "        status = \"success\"\n",
    "\n",
    "    return {\n",
    "        \"agent_response\": agent_response,\n",
    "        \"intermediate_steps\": intermediate_steps + [\n",
    "            f\"Total swords purchased: {sword_counter}.\",\n",
    "            f\"Total spent: {total_spent}.\"\n",
    "        ],\n",
    "        \"final_state\": {\n",
    "            \"status\": status,\n",
    "            \"purchases\": purchased_items,\n",
    "            \"errors\": errors,\n",
    "            \"remaining_budget\": navigator.get_client_budget()\n",
    "        }\n",
    "    }"
   ]
  },
  {
   "cell_type": "code",
   "execution_count": 9,
   "id": "f4169000d80f826e",
   "metadata": {
    "ExecuteTime": {
     "end_time": "2025-07-09T11:01:07.041026Z",
     "start_time": "2025-07-09T11:01:07.027884Z"
    }
   },
   "outputs": [
    {
     "name": "stdout",
     "output_type": "stream",
     "text": [
      "4500\n",
      "Muoviamo il droide\n",
      "Selected ship: StarHopper\n",
      "Selected ship location: Tatooine\n",
      "Destination: Coruscant\n",
      "Total cost: 520\n",
      "Client balance: 4500\n",
      "{'agent_response': 'Travel successful: droid R2-D2 moved to Coruscant.', 'intermediate_steps': ['Located R2-D2 at Tatooine.', 'Booked travel from Tatooine to Coruscant.', 'Moved R2-D2 to Coruscant.'], 'final_state': {'droid': 'R2-D2', 'location': 'Coruscant', 'status': 'moved'}}\n"
     ]
    },
    {
     "data": {
      "text/plain": [
       "{'agent_response': 'Purchased 2 Laser Swords successfully.',\n",
       " 'intermediate_steps': [\"Droid 'R2-D2' located at Tatooine.\",\n",
       "  \"Found 4 'Laser Sword' on Tatooine.\",\n",
       "  \"Purchased 'Laser Sword' on Tatooine.\",\n",
       "  'Searching on planets: Alderaan, Coruscant.',\n",
       "  'Moved droid to Coruscant.',\n",
       "  \"Purchased 'Laser Sword' on Coruscant.\",\n",
       "  'Total swords purchased: 2.',\n",
       "  'Total spent: 1000.'],\n",
       " 'final_state': {'status': 'success',\n",
       "  'purchases': [{'item_id': 'LS001',\n",
       "    'name': 'Laser Sword',\n",
       "    'price': 500,\n",
       "    'purchase_info': {'item': {'name': 'Laser Sword',\n",
       "      'price': 500,\n",
       "      'planet': 'Tatooine'},\n",
       "     'price': 500,\n",
       "     'remaining_balance': 4500}},\n",
       "   {'item_id': 'LS002',\n",
       "    'name': 'Laser Sword',\n",
       "    'price': 500,\n",
       "    'purchase_info': {'item': {'name': 'Laser Sword',\n",
       "      'price': 500,\n",
       "      'planet': 'Coruscant'},\n",
       "     'price': 500,\n",
       "     'remaining_balance': 3480}}],\n",
       "  'errors': [],\n",
       "  'remaining_budget': 3480}}"
      ]
     },
     "execution_count": 9,
     "metadata": {},
     "output_type": "execute_result"
    }
   ],
   "source": [
    "task1()"
   ]
  },
  {
   "cell_type": "markdown",
   "id": "14a7ab9aa78a5ae3",
   "metadata": {},
   "source": [
    "##### TASK 2: \"\"Usa l'InfoSfera per trovare informazioni su 'Alderaan'. Se il threat_level è 'low', trasporta R2-D2 lì\"\""
   ]
  },
  {
   "cell_type": "code",
   "execution_count": 11,
   "id": "2f8f87878051fa86",
   "metadata": {
    "ExecuteTime": {
     "end_time": "2025-07-09T11:01:07.070834Z",
     "start_time": "2025-07-09T11:01:07.057307Z"
    }
   },
   "outputs": [],
   "source": [
    "def task2(droid=\"R2-D2\", destination=\"Alderaan\"):\n",
    "    intermediate_steps = []\n",
    "\n",
    "    # Step 1: Recupera informazioni sul pianeta\n",
    "    info = infosphere.search_info(destination)\n",
    "    threat_level = info.get(\"threat_level\", \"unknown\")\n",
    "    intermediate_steps.append(f\"Retrieved threat level for {destination}: {threat_level}.\")\n",
    "\n",
    "    # Step 2: Controlla il livello di minaccia\n",
    "    if threat_level != \"low\":\n",
    "        agent_response = f\"Could not move droid to {destination} due to threat level '{threat_level}'.\"\n",
    "        final_state = {\n",
    "            \"status\": \"move_blocked\",\n",
    "            \"threat_level\": threat_level,\n",
    "            \"droid_location\": find_droid(droid)\n",
    "        }\n",
    "        return {\n",
    "            \"agent_response\": agent_response,\n",
    "            \"intermediate_steps\": intermediate_steps,\n",
    "            \"final_state\": final_state\n",
    "        }\n",
    "\n",
    "    # Step 3: Muovi il droide\n",
    "    move_result = move_droid(droid, destination)\n",
    "    intermediate_steps.append(f\"Droid moved to {destination}.\")\n",
    "\n",
    "    # Verifica se si è bloccato\n",
    "    if move_result[\"final_state\"][\"status\"] == \"stuck\":\n",
    "        agent_response = f\"Attempted to move droid to {destination}, but it got stuck.\"\n",
    "        final_state = {\n",
    "            \"status\": \"move_failed\",\n",
    "            \"droid_location\": move_result[\"final_state\"].get(\"current_location\", \"unknown\")\n",
    "        }\n",
    "    else:\n",
    "        agent_response = f\"Droid moved to {destination} successfully.\"\n",
    "        final_state = {\n",
    "            \"status\": \"success\",\n",
    "            \"droid_location\": destination\n",
    "        }\n",
    "\n",
    "    return {\n",
    "        \"agent_response\": agent_response,\n",
    "        \"intermediate_steps\": intermediate_steps,\n",
    "        \"final_state\": final_state\n",
    "    }"
   ]
  },
  {
   "cell_type": "code",
   "execution_count": 12,
   "id": "1111fe6da83809a6",
   "metadata": {
    "ExecuteTime": {
     "end_time": "2025-07-09T11:01:07.101071Z",
     "start_time": "2025-07-09T11:01:07.087553Z"
    }
   },
   "outputs": [
    {
     "name": "stdout",
     "output_type": "stream",
     "text": [
      "Selected ship: StarHopper\n",
      "Selected ship location: Coruscant\n",
      "Destination: Alderaan\n",
      "Total cost: 500\n",
      "Client balance: 3480\n"
     ]
    },
    {
     "data": {
      "text/plain": [
       "{'agent_response': 'Droid moved to Alderaan successfully.',\n",
       " 'intermediate_steps': ['Retrieved threat level for Alderaan: low.',\n",
       "  'Droid moved to Alderaan.'],\n",
       " 'final_state': {'status': 'success', 'droid_location': 'Alderaan'}}"
      ]
     },
     "execution_count": 12,
     "metadata": {},
     "output_type": "execute_result"
    }
   ],
   "source": [
    "task2()"
   ]
  },
  {
   "cell_type": "markdown",
   "id": "dd3f7993e4243865",
   "metadata": {},
   "source": [
    "##### TASK 3: \"Ottimizza i costi: trova la rotta più economica per visitare tutti e 3 i pianeti (Tatooine-Coruscant-Alderaan)\""
   ]
  },
  {
   "cell_type": "code",
   "execution_count": null,
   "id": "e98fefca95a75a13",
   "metadata": {
    "ExecuteTime": {
     "end_time": "2025-07-09T11:01:07.162525Z",
     "start_time": "2025-07-09T11:01:07.148011Z"
    }
   },
   "outputs": [],
   "source": [
    "def task3(droid=\"R2-D2\", planets=(\"Tatooine\", \"Coruscant\", \"Alderaan\")):\n",
    "    from itertools import permutations  # Importa funzione per generare permutazioni\n",
    "\n",
    "    intermediate_steps = []  # Per memorizzare i passaggi intermedi\n",
    "\n",
    "    # Step 0: Ottieni la posizione attuale del droide dal galaxy_state\n",
    "    start_location = find_droid(droid)\n",
    "\n",
    "    if not start_location:\n",
    "        return {\n",
    "            \"agent_response\": f\"Could not determine location of droid '{droid}'.\",\n",
    "            \"intermediate_steps\": [\"Failed to retrieve droid location.\"],\n",
    "            \"final_state\": {\n",
    "                \"status\": \"droid_location_unknown\",\n",
    "                \"cheapest_route\": None,\n",
    "                \"total_cost\": None\n",
    "            }\n",
    "        }\n",
    "\n",
    "    intermediate_steps.append(f\"Droid '{droid}' is currently at {start_location}.\")\n",
    "\n",
    "    # Step 1: Genera tutte le permutazioni dei pianeti escluso start_location (che deve essere punto di partenza)\n",
    "    # Filtro: prendo solo permutazioni che iniziano con start_location\n",
    "    # Poiché start_location è punto di partenza, rimuovo start_location dalla lista e genero permutazioni degli altri\n",
    "    planets_to_permute = [p for p in planets if p != start_location]\n",
    "\n",
    "    # Genera tutte le permutazioni dei pianeti da visitare (escludendo start_location)\n",
    "    subroutes = list(permutations(planets_to_permute))\n",
    "\n",
    "    # Ricostruisco le rotte inserendo start_location come primo pianeta in ogni permutazione\n",
    "    routes = [(start_location,) + route for route in subroutes]\n",
    "\n",
    "    intermediate_steps.append(f\"Generated {len(routes)} possible routes starting from {start_location}.\")\n",
    "\n",
    "    # Step 2: Calcola costo totale per ogni rotta\n",
    "    route_costs = []\n",
    "    for route in routes:\n",
    "        total_cost = 0\n",
    "        invalid_leg = False\n",
    "        # Calcola i costi per ogni tratta della rotta\n",
    "        for i in range(len(route) - 1):\n",
    "            origin = route[i]\n",
    "            destination = route[i + 1]\n",
    "            leg_cost = infosphere.get_travel_cost(origin, destination)\n",
    "            if leg_cost is None:\n",
    "                invalid_leg = True\n",
    "                break\n",
    "            total_cost += leg_cost\n",
    "        if not invalid_leg:\n",
    "            route_costs.append({\n",
    "                \"route\": route,\n",
    "                \"total_cost\": total_cost\n",
    "            })\n",
    "\n",
    "    intermediate_steps.append(\"Calculated travel costs for all valid routes.\")\n",
    "\n",
    "    if not route_costs:\n",
    "        agent_response = \"Could not find any valid route connecting all planets starting from droid location.\"\n",
    "        final_state = {\n",
    "            \"status\": \"route_unavailable\",\n",
    "            \"cheapest_route\": None,\n",
    "            \"total_cost\": None\n",
    "        }\n",
    "    else:\n",
    "        cheapest = min(route_costs, key=lambda x: x[\"total_cost\"])\n",
    "        agent_response = (\n",
    "            \"Identified the cheapest route: \"\n",
    "            + \" -> \".join(cheapest[\"route\"])\n",
    "            + f\" with total travel cost {cheapest['total_cost']} credits.\"\n",
    "        )\n",
    "        final_state = {\n",
    "            \"status\": \"success\",\n",
    "            \"cheapest_route\": list(cheapest[\"route\"]),\n",
    "            \"total_cost\": cheapest[\"total_cost\"]\n",
    "        }\n",
    "\n",
    "    return {\n",
    "        \"agent_response\": agent_response,\n",
    "        \"intermediate_steps\": intermediate_steps + [\n",
    "            (\n",
    "                f\"Cheapest route: {' -> '.join(cheapest['route'])} \"\n",
    "                f\"with cost {cheapest['total_cost']}.\"\n",
    "            ) if route_costs else \"No valid routes available.\"\n",
    "        ],\n",
    "        \"final_state\": final_state\n",
    "    }"
   ]
  },
  {
   "cell_type": "code",
   "execution_count": 9,
   "id": "dd4594c810453529",
   "metadata": {
    "ExecuteTime": {
     "end_time": "2025-07-09T11:01:07.193573Z",
     "start_time": "2025-07-09T11:01:07.179056Z"
    }
   },
   "outputs": [
    {
     "data": {
      "text/plain": [
       "{'agent_response': 'Identified the cheapest route: Alderaan -> Coruscant -> Tatooine with total travel cost 220 credits.',\n",
       " 'intermediate_steps': [\"Droid 'R2-D2' is currently at Alderaan.\",\n",
       "  'Generated 2 possible routes starting from Alderaan.',\n",
       "  'Calculated travel costs for all valid routes.',\n",
       "  'Cheapest route: Alderaan -> Coruscant -> Tatooine with cost 220.'],\n",
       " 'final_state': {'status': 'success',\n",
       "  'cheapest_route': ['Alderaan', 'Coruscant', 'Tatooine'],\n",
       "  'total_cost': 220}}"
      ]
     },
     "execution_count": 9,
     "metadata": {},
     "output_type": "execute_result"
    }
   ],
   "source": [
    "task3()"
   ]
  },
  {
   "cell_type": "code",
   "execution_count": null,
   "id": "b672068f454c539d",
   "metadata": {
    "ExecuteTime": {
     "end_time": "2025-07-09T11:01:07.256266Z",
     "start_time": "2025-07-09T11:01:07.241226Z"
    }
   },
   "outputs": [],
   "source": []
  }
 ],
 "metadata": {
  "kernelspec": {
   "display_name": "Python 3",
   "language": "python",
   "name": "python3"
  },
  "language_info": {
   "codemirror_mode": {
    "name": "ipython",
    "version": 2
   },
   "file_extension": ".py",
   "mimetype": "text/x-python",
   "name": "python",
   "nbconvert_exporter": "python",
   "pygments_lexer": "ipython2",
   "version": "2.7.6"
  }
 },
 "nbformat": 4,
 "nbformat_minor": 5
}
